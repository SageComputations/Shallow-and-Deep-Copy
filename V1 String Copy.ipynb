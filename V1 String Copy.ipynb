{
 "cells": [
  {
   "cell_type": "code",
   "execution_count": 2,
   "id": "57e48fa8",
   "metadata": {},
   "outputs": [
    {
     "data": {
      "text/plain": [
       "'Coding'"
      ]
     },
     "execution_count": 2,
     "metadata": {},
     "output_type": "execute_result"
    }
   ],
   "source": [
    "old_str = 'Coding'\n",
    "\n",
    "old_str"
   ]
  },
  {
   "cell_type": "code",
   "execution_count": 7,
   "id": "a9e9d4bb",
   "metadata": {},
   "outputs": [],
   "source": [
    "new_str = old_str #Both refers to the same string "
   ]
  },
  {
   "cell_type": "code",
   "execution_count": 4,
   "id": "430c001a",
   "metadata": {},
   "outputs": [
    {
     "name": "stdout",
     "output_type": "stream",
     "text": [
      "Coding\n",
      "Coding\n"
     ]
    }
   ],
   "source": [
    "print(old_str)\n",
    "print(new_str)"
   ]
  },
  {
   "cell_type": "code",
   "execution_count": 5,
   "id": "7439286a",
   "metadata": {},
   "outputs": [
    {
     "data": {
      "text/plain": [
       "'d'"
      ]
     },
     "execution_count": 5,
     "metadata": {},
     "output_type": "execute_result"
    }
   ],
   "source": [
    "old_str[2]"
   ]
  },
  {
   "cell_type": "code",
   "execution_count": 6,
   "id": "3411228e",
   "metadata": {},
   "outputs": [
    {
     "ename": "TypeError",
     "evalue": "'str' object does not support item assignment",
     "output_type": "error",
     "traceback": [
      "\u001b[1;31m---------------------------------------------------------------------------\u001b[0m",
      "\u001b[1;31mTypeError\u001b[0m                                 Traceback (most recent call last)",
      "Input \u001b[1;32mIn [6]\u001b[0m, in \u001b[0;36m<cell line: 1>\u001b[1;34m()\u001b[0m\n\u001b[1;32m----> 1\u001b[0m old_str[\u001b[38;5;241m2\u001b[39m] \u001b[38;5;241m=\u001b[39m \u001b[38;5;124m'\u001b[39m\u001b[38;5;124mD\u001b[39m\u001b[38;5;124m'\u001b[39m\n",
      "\u001b[1;31mTypeError\u001b[0m: 'str' object does not support item assignment"
     ]
    }
   ],
   "source": [
    "old_str[2] = 'D' #Python string is immutable"
   ]
  },
  {
   "cell_type": "code",
   "execution_count": 16,
   "id": "7bdefffc",
   "metadata": {},
   "outputs": [
    {
     "name": "stdout",
     "output_type": "stream",
     "text": [
      "Pyhton\n",
      "Coding\n"
     ]
    }
   ],
   "source": [
    "old_str = 'Pyhton'\n",
    "\n",
    "print(old_str)\n",
    "print(new_str)"
   ]
  },
  {
   "cell_type": "markdown",
   "id": "1478e0f1",
   "metadata": {},
   "source": [
    "# import allows you to access other libraries in python"
   ]
  },
  {
   "cell_type": "code",
   "execution_count": 8,
   "id": "29f61ad3",
   "metadata": {},
   "outputs": [],
   "source": [
    "import copy"
   ]
  },
  {
   "cell_type": "code",
   "execution_count": 10,
   "id": "604b99ea",
   "metadata": {},
   "outputs": [
    {
     "data": {
      "text/plain": [
       "'Anand'"
      ]
     },
     "execution_count": 10,
     "metadata": {},
     "output_type": "execute_result"
    }
   ],
   "source": [
    "first_str = 'Anand'\n",
    "\n",
    "first_str"
   ]
  },
  {
   "cell_type": "code",
   "execution_count": 12,
   "id": "52c6b723",
   "metadata": {},
   "outputs": [
    {
     "name": "stdout",
     "output_type": "stream",
     "text": [
      "First String : Anand\n",
      "Second String : Anand\n"
     ]
    }
   ],
   "source": [
    "second_str = copy.copy(first_str)\n",
    "\n",
    "print(\"First String :\", first_str)\n",
    "print(\"Second String :\", second_str)"
   ]
  },
  {
   "cell_type": "markdown",
   "id": "4330b51e",
   "metadata": {},
   "source": [
    "# copy refers to the module and copy() refers to the function invoked."
   ]
  },
  {
   "cell_type": "code",
   "execution_count": 14,
   "id": "57488178",
   "metadata": {},
   "outputs": [
    {
     "name": "stdout",
     "output_type": "stream",
     "text": [
      "First String : Anand\n",
      "Second String : Amit\n"
     ]
    }
   ],
   "source": [
    "second_str = 'Amit'\n",
    "\n",
    "print(\"First String :\", first_str)\n",
    "print(\"Second String :\", second_str)"
   ]
  },
  {
   "cell_type": "code",
   "execution_count": 15,
   "id": "0fad4299",
   "metadata": {},
   "outputs": [
    {
     "data": {
      "text/plain": [
       "'Jack'"
      ]
     },
     "execution_count": 15,
     "metadata": {},
     "output_type": "execute_result"
    }
   ],
   "source": [
    "first_str = 'Jack'\n",
    "\n",
    "first_str"
   ]
  },
  {
   "cell_type": "code",
   "execution_count": 17,
   "id": "70bbfaab",
   "metadata": {},
   "outputs": [
    {
     "name": "stdout",
     "output_type": "stream",
     "text": [
      "First String : Jack\n",
      "Second String : Jack\n"
     ]
    }
   ],
   "source": [
    "second_str = copy.deepcopy(first_str)\n",
    "\n",
    "print(\"First String :\", first_str)\n",
    "print(\"Second String :\", second_str)"
   ]
  },
  {
   "cell_type": "code",
   "execution_count": 18,
   "id": "ae13c731",
   "metadata": {},
   "outputs": [
    {
     "name": "stdout",
     "output_type": "stream",
     "text": [
      "First String : Jack\n",
      "Second String : Jill\n"
     ]
    }
   ],
   "source": [
    "second_str = 'Jill'\n",
    "\n",
    "print(\"First String :\", first_str)\n",
    "print(\"Second String :\", second_str)"
   ]
  },
  {
   "cell_type": "markdown",
   "id": "fcf0c66c",
   "metadata": {},
   "source": [
    "# In case of strings there is no difference in copying methods whether you do it with '=', or copy or deepcopy"
   ]
  },
  {
   "cell_type": "code",
   "execution_count": null,
   "id": "72c30589",
   "metadata": {},
   "outputs": [],
   "source": []
  }
 ],
 "metadata": {
  "kernelspec": {
   "display_name": "Python 3 (ipykernel)",
   "language": "python",
   "name": "python3"
  },
  "language_info": {
   "codemirror_mode": {
    "name": "ipython",
    "version": 3
   },
   "file_extension": ".py",
   "mimetype": "text/x-python",
   "name": "python",
   "nbconvert_exporter": "python",
   "pygments_lexer": "ipython3",
   "version": "3.9.12"
  }
 },
 "nbformat": 4,
 "nbformat_minor": 5
}
