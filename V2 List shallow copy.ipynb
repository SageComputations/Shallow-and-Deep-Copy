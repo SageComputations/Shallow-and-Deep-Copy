{
 "cells": [
  {
   "cell_type": "markdown",
   "id": "9efa493d",
   "metadata": {},
   "source": [
    "# Lists and strings are similar but strings are immutable thus creating a difference in behaviour during copy operations"
   ]
  },
  {
   "cell_type": "code",
   "execution_count": 1,
   "id": "7f0409cd",
   "metadata": {},
   "outputs": [
    {
     "data": {
      "text/plain": [
       "['Jack', 'Jill', 'Rose', 'Brian']"
      ]
     },
     "execution_count": 1,
     "metadata": {},
     "output_type": "execute_result"
    }
   ],
   "source": [
    "names = ['Jack','Jill','Rose','Brian']\n",
    "\n",
    "names"
   ]
  },
  {
   "cell_type": "code",
   "execution_count": 2,
   "id": "cc640b46",
   "metadata": {},
   "outputs": [
    {
     "name": "stdout",
     "output_type": "stream",
     "text": [
      "Original: ['Jack', 'Jill', 'Rose', 'Brian']\n",
      "Copy: ['Jack', 'Jill', 'Rose', 'Brian']\n"
     ]
    }
   ],
   "source": [
    "new_names = names\n",
    "\n",
    "print(\"Original:\",names)\n",
    "print(\"Copy:\",new_names)"
   ]
  },
  {
   "cell_type": "code",
   "execution_count": 3,
   "id": "5f3f6abd",
   "metadata": {},
   "outputs": [
    {
     "data": {
      "text/plain": [
       "'Jill'"
      ]
     },
     "execution_count": 3,
     "metadata": {},
     "output_type": "execute_result"
    }
   ],
   "source": [
    "names[1]"
   ]
  },
  {
   "cell_type": "code",
   "execution_count": 5,
   "id": "925d312a",
   "metadata": {},
   "outputs": [
    {
     "name": "stdout",
     "output_type": "stream",
     "text": [
      "Original: ['Jack', 'Reynolds', 'Rose', 'Brian']\n",
      "Modified: ['Jack', 'Reynolds', 'Rose', 'Brian']\n"
     ]
    }
   ],
   "source": [
    "new_names[1] = 'Reynolds'\n",
    "\n",
    "print(\"Original:\",names)\n",
    "print(\"Modified:\",new_names)"
   ]
  },
  {
   "cell_type": "markdown",
   "id": "071d4855",
   "metadata": {},
   "source": [
    "# Shallow copy of a list - both variables refer to the same list under the hood"
   ]
  },
  {
   "cell_type": "code",
   "execution_count": 6,
   "id": "2181df96",
   "metadata": {},
   "outputs": [],
   "source": [
    "import copy"
   ]
  },
  {
   "cell_type": "code",
   "execution_count": 7,
   "id": "9fb594aa",
   "metadata": {},
   "outputs": [
    {
     "data": {
      "text/plain": [
       "['Flipkart', 'Amazon', 'Myntra']"
      ]
     },
     "execution_count": 7,
     "metadata": {},
     "output_type": "execute_result"
    }
   ],
   "source": [
    "ecommerce = ['Flipkart','Amazon','Myntra']\n",
    "\n",
    "ecommerce"
   ]
  },
  {
   "cell_type": "code",
   "execution_count": 8,
   "id": "a9671da6",
   "metadata": {},
   "outputs": [
    {
     "name": "stdout",
     "output_type": "stream",
     "text": [
      "Original: ['Flipkart', 'Amazon', 'Myntra']\n",
      "Modified: ['Flipkart', 'Amazon', 'Myntra']\n"
     ]
    }
   ],
   "source": [
    "new_ecommerce = copy.copy(ecommerce)\n",
    "\n",
    "print(\"Original:\",ecommerce)\n",
    "print(\"Modified:\",new_ecommerce)"
   ]
  },
  {
   "cell_type": "code",
   "execution_count": 9,
   "id": "91f30175",
   "metadata": {},
   "outputs": [
    {
     "data": {
      "text/plain": [
       "'Amazon'"
      ]
     },
     "execution_count": 9,
     "metadata": {},
     "output_type": "execute_result"
    }
   ],
   "source": [
    "new_ecommerce[1]"
   ]
  },
  {
   "cell_type": "code",
   "execution_count": 11,
   "id": "85e0f168",
   "metadata": {},
   "outputs": [
    {
     "name": "stdout",
     "output_type": "stream",
     "text": [
      "Original: ['Flipkart', 'Amazon', 'Myntra']\n",
      "Modified: ['Flipkart', 'Ebay', 'Myntra']\n"
     ]
    }
   ],
   "source": [
    "new_ecommerce[1] = 'Ebay'\n",
    "\n",
    "print(\"Original:\",ecommerce)\n",
    "print(\"Modified:\",new_ecommerce)"
   ]
  },
  {
   "cell_type": "markdown",
   "id": "f4ef0a3d",
   "metadata": {},
   "source": [
    "# copy.copy(list) creates a deepcopy of the list , entirely new list is created in the memory and changes to the original will not affect the new one"
   ]
  },
  {
   "cell_type": "code",
   "execution_count": 12,
   "id": "f6c26224",
   "metadata": {},
   "outputs": [
    {
     "data": {
      "text/plain": [
       "[[1, 2, 3], [4, 5, 6], [7, 8, 9]]"
      ]
     },
     "execution_count": 12,
     "metadata": {},
     "output_type": "execute_result"
    }
   ],
   "source": [
    "old_list = [[1,2,3],[4,5,6],[7,8,9]]\n",
    "\n",
    "old_list"
   ]
  },
  {
   "cell_type": "code",
   "execution_count": 13,
   "id": "14f916fa",
   "metadata": {},
   "outputs": [
    {
     "name": "stdout",
     "output_type": "stream",
     "text": [
      "Original: [[1, 2, 3], [4, 5, 6], [7, 8, 9]]\n",
      "Modified: [[1, 2, 3], [4, 5, 6], [7, 8, 9]]\n"
     ]
    }
   ],
   "source": [
    "new_list = copy.copy(old_list)\n",
    "\n",
    "print(\"Original:\",old_list)\n",
    "print(\"Modified:\",new_list)"
   ]
  },
  {
   "cell_type": "code",
   "execution_count": 14,
   "id": "c17cc5b9",
   "metadata": {},
   "outputs": [
    {
     "data": {
      "text/plain": [
       "6"
      ]
     },
     "execution_count": 14,
     "metadata": {},
     "output_type": "execute_result"
    }
   ],
   "source": [
    "old_list[1][2]"
   ]
  },
  {
   "cell_type": "code",
   "execution_count": 15,
   "id": "81d7806b",
   "metadata": {},
   "outputs": [
    {
     "name": "stdout",
     "output_type": "stream",
     "text": [
      "Original: [[1, 2, 3], [4, 5, 'six'], [7, 8, 9]]\n",
      "Modified: [[1, 2, 3], [4, 5, 'six'], [7, 8, 9]]\n"
     ]
    }
   ],
   "source": [
    "old_list[1][2] = 'six'\n",
    "\n",
    "print(\"Original:\",old_list)\n",
    "print(\"Modified:\",new_list)   "
   ]
  },
  {
   "cell_type": "markdown",
   "id": "34c17496",
   "metadata": {},
   "source": [
    "# IMP\n",
    "# copy.copy(list) creates a deep copy of the outer list but a shallow copy of the inner list"
   ]
  },
  {
   "cell_type": "code",
   "execution_count": 16,
   "id": "41861b19",
   "metadata": {},
   "outputs": [],
   "source": [
    "#Changes to the inner list is reflected in both the old and new list"
   ]
  },
  {
   "cell_type": "code",
   "execution_count": 17,
   "id": "fbe7f30f",
   "metadata": {},
   "outputs": [
    {
     "name": "stdout",
     "output_type": "stream",
     "text": [
      "Original: [[1, 2, 3], [4, 5, 'six'], [7, 8, 9, 'Ten']]\n",
      "Modified: [[1, 2, 3], [4, 5, 'six'], [7, 8, 9, 'Ten']]\n"
     ]
    }
   ],
   "source": [
    "new_list[2].append('Ten')\n",
    "\n",
    "print(\"Original:\",old_list)\n",
    "print(\"Modified:\",new_list)"
   ]
  },
  {
   "cell_type": "code",
   "execution_count": 18,
   "id": "766f829a",
   "metadata": {},
   "outputs": [
    {
     "name": "stdout",
     "output_type": "stream",
     "text": [
      "Original: [[1, 2, 3], [4, 5, 'six'], [7, 8, 9, 'Ten'], [10, 11, 12]]\n",
      "Modified: [[1, 2, 3], [4, 5, 'six'], [7, 8, 9, 'Ten']]\n"
     ]
    }
   ],
   "source": [
    "old_list.append([10,11,12])\n",
    "\n",
    "print(\"Original:\",old_list)\n",
    "print(\"Modified:\",new_list)"
   ]
  },
  {
   "cell_type": "markdown",
   "id": "959d1b76",
   "metadata": {},
   "source": [
    "# Since deep copy of the outer list is created so changes to the outer list will not be reflected in its copy"
   ]
  },
  {
   "cell_type": "code",
   "execution_count": null,
   "id": "910d75c7",
   "metadata": {},
   "outputs": [],
   "source": []
  }
 ],
 "metadata": {
  "kernelspec": {
   "display_name": "Python 3 (ipykernel)",
   "language": "python",
   "name": "python3"
  },
  "language_info": {
   "codemirror_mode": {
    "name": "ipython",
    "version": 3
   },
   "file_extension": ".py",
   "mimetype": "text/x-python",
   "name": "python",
   "nbconvert_exporter": "python",
   "pygments_lexer": "ipython3",
   "version": "3.9.12"
  }
 },
 "nbformat": 4,
 "nbformat_minor": 5
}
