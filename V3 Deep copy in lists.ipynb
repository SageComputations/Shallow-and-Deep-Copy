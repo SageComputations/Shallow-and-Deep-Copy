{
 "cells": [
  {
   "cell_type": "code",
   "execution_count": 3,
   "id": "f64d146f",
   "metadata": {},
   "outputs": [
    {
     "data": {
      "text/plain": [
       "['Rocky', 'Bruno', 'Lucy', 'Sandy']"
      ]
     },
     "execution_count": 3,
     "metadata": {},
     "output_type": "execute_result"
    }
   ],
   "source": [
    "names = ['Rocky','Bruno','Lucy','Sandy']\n",
    "\n",
    "names"
   ]
  },
  {
   "cell_type": "code",
   "execution_count": 4,
   "id": "fbdd14f1",
   "metadata": {},
   "outputs": [
    {
     "name": "stdout",
     "output_type": "stream",
     "text": [
      "Original: ['Rocky', 'Bruno', 'Lucy', 'Sandy']\n",
      "Modified: ['Rocky', 'Bruno', 'Lucy', 'Sandy']\n"
     ]
    }
   ],
   "source": [
    "new_names = names.copy()\n",
    "\n",
    "print(\"Original:\", names)\n",
    "print('Modified:', new_names)"
   ]
  },
  {
   "cell_type": "code",
   "execution_count": 5,
   "id": "f8f2e353",
   "metadata": {},
   "outputs": [
    {
     "data": {
      "text/plain": [
       "'Bruno'"
      ]
     },
     "execution_count": 5,
     "metadata": {},
     "output_type": "execute_result"
    }
   ],
   "source": [
    "new_names[1]"
   ]
  },
  {
   "cell_type": "code",
   "execution_count": 6,
   "id": "9d395cda",
   "metadata": {},
   "outputs": [
    {
     "name": "stdout",
     "output_type": "stream",
     "text": [
      "Original: ['Rocky', 'Bruno', 'Lucy', 'Sandy']\n",
      "Modified: ['Rocky', 'Charley', 'Lucy', 'Sandy']\n"
     ]
    }
   ],
   "source": [
    "new_names[1] = 'Charley'\n",
    "\n",
    "print(\"Original:\", names)\n",
    "print('Modified:', new_names)"
   ]
  },
  {
   "cell_type": "markdown",
   "id": "01c7eb89",
   "metadata": {},
   "source": [
    "# list.copy( ) creates a deep copy of the list"
   ]
  },
  {
   "cell_type": "code",
   "execution_count": 8,
   "id": "674f4212",
   "metadata": {},
   "outputs": [
    {
     "data": {
      "text/plain": [
       "['Facebook', 'Amazon', 'Google']"
      ]
     },
     "execution_count": 8,
     "metadata": {},
     "output_type": "execute_result"
    }
   ],
   "source": [
    "companies = ['Facebook','Amazon','Google']\n",
    "\n",
    "companies"
   ]
  },
  {
   "cell_type": "code",
   "execution_count": 10,
   "id": "6c0992d6",
   "metadata": {},
   "outputs": [],
   "source": [
    "import copy"
   ]
  },
  {
   "cell_type": "code",
   "execution_count": 12,
   "id": "4147e031",
   "metadata": {},
   "outputs": [
    {
     "name": "stdout",
     "output_type": "stream",
     "text": [
      "Original: ['Facebook', 'Amazon', 'Google']\n",
      "Modified: ['Facebook', 'Amazon', 'Google']\n"
     ]
    }
   ],
   "source": [
    "new_companies = copy.deepcopy(companies)\n",
    "\n",
    "print(\"Original:\", companies)\n",
    "print('Modified:', new_companies)"
   ]
  },
  {
   "cell_type": "code",
   "execution_count": 13,
   "id": "34f5bc07",
   "metadata": {},
   "outputs": [
    {
     "data": {
      "text/plain": [
       "'Amazon'"
      ]
     },
     "execution_count": 13,
     "metadata": {},
     "output_type": "execute_result"
    }
   ],
   "source": [
    "new_companies[1]"
   ]
  },
  {
   "cell_type": "code",
   "execution_count": 14,
   "id": "87006477",
   "metadata": {},
   "outputs": [
    {
     "name": "stdout",
     "output_type": "stream",
     "text": [
      "Original: ['Facebook', 'Amazon', 'Google']\n",
      "Modified: ['Facebook', 'Microsoft', 'Google']\n"
     ]
    }
   ],
   "source": [
    "new_companies[1] = 'Microsoft'\n",
    "\n",
    "print(\"Original:\", companies)\n",
    "print('Modified:', new_companies)"
   ]
  },
  {
   "cell_type": "markdown",
   "id": "59869ea9",
   "metadata": {},
   "source": [
    "# copy.copy( ) and copy.deepcopy( ) both produce deep copies of non nested lists"
   ]
  },
  {
   "cell_type": "code",
   "execution_count": 15,
   "id": "8058178f",
   "metadata": {},
   "outputs": [
    {
     "data": {
      "text/plain": [
       "[[1, 2, 3], [4, 5, 6], [7, 8, 9]]"
      ]
     },
     "execution_count": 15,
     "metadata": {},
     "output_type": "execute_result"
    }
   ],
   "source": [
    "old_list = [[1,2,3],[4,5,6],[7,8,9]]\n",
    "\n",
    "old_list"
   ]
  },
  {
   "cell_type": "code",
   "execution_count": 16,
   "id": "4729df4b",
   "metadata": {},
   "outputs": [
    {
     "name": "stdout",
     "output_type": "stream",
     "text": [
      "Old list: [[1, 2, 3], [4, 5, 6], [7, 8, 9]]\n",
      "New list: [[1, 2, 3], [4, 5, 6], [7, 8, 9]]\n"
     ]
    }
   ],
   "source": [
    "new_list = copy.deepcopy(old_list)\n",
    "\n",
    "print(\"Old list:\", old_list)\n",
    "print('New list:', new_list)"
   ]
  },
  {
   "cell_type": "code",
   "execution_count": 18,
   "id": "291747eb",
   "metadata": {},
   "outputs": [
    {
     "data": {
      "text/plain": [
       "4"
      ]
     },
     "execution_count": 18,
     "metadata": {},
     "output_type": "execute_result"
    }
   ],
   "source": [
    "old_list[1][0]"
   ]
  },
  {
   "cell_type": "code",
   "execution_count": 19,
   "id": "9ce73f35",
   "metadata": {},
   "outputs": [],
   "source": [
    "old_list[1][0] = 'Four'"
   ]
  },
  {
   "cell_type": "code",
   "execution_count": 20,
   "id": "5047df88",
   "metadata": {},
   "outputs": [
    {
     "name": "stdout",
     "output_type": "stream",
     "text": [
      "Old list: [[1, 2, 3], ['Four', 5, 6], [7, 8, 9]]\n",
      "New list: [[1, 2, 3], [4, 5, 6], [7, 8, 9]]\n"
     ]
    }
   ],
   "source": [
    "print(\"Old list:\", old_list)\n",
    "print('New list:', new_list)"
   ]
  },
  {
   "cell_type": "markdown",
   "id": "3e54de51",
   "metadata": {},
   "source": [
    "# copy.deepcopy( ) creates a deep copy of all the nested lists as well"
   ]
  },
  {
   "cell_type": "code",
   "execution_count": 22,
   "id": "b6fd91f2",
   "metadata": {},
   "outputs": [
    {
     "data": {
      "text/plain": [
       "['Facebook', 'Amazon', 'Google']"
      ]
     },
     "execution_count": 22,
     "metadata": {},
     "output_type": "execute_result"
    }
   ],
   "source": [
    "companies"
   ]
  },
  {
   "cell_type": "code",
   "execution_count": 23,
   "id": "f61db262",
   "metadata": {},
   "outputs": [
    {
     "data": {
      "text/plain": [
       "['Facebook', 'Amazon', 'Google']"
      ]
     },
     "execution_count": 23,
     "metadata": {},
     "output_type": "execute_result"
    }
   ],
   "source": [
    "new_companies = companies[:]\n",
    "\n",
    "new_companies"
   ]
  },
  {
   "cell_type": "code",
   "execution_count": 24,
   "id": "2557986f",
   "metadata": {},
   "outputs": [
    {
     "name": "stdout",
     "output_type": "stream",
     "text": [
      "Original: ['Facebook', 'Amazon', 'Google']\n",
      "Modified: ['Ola', 'Amazon', 'Google']\n"
     ]
    }
   ],
   "source": [
    "new_companies[0] = 'Ola'\n",
    "\n",
    "print(\"Original:\", companies)\n",
    "print('Modified:', new_companies)"
   ]
  },
  {
   "cell_type": "code",
   "execution_count": null,
   "id": "68f0dc95",
   "metadata": {},
   "outputs": [],
   "source": []
  }
 ],
 "metadata": {
  "kernelspec": {
   "display_name": "Python 3 (ipykernel)",
   "language": "python",
   "name": "python3"
  },
  "language_info": {
   "codemirror_mode": {
    "name": "ipython",
    "version": 3
   },
   "file_extension": ".py",
   "mimetype": "text/x-python",
   "name": "python",
   "nbconvert_exporter": "python",
   "pygments_lexer": "ipython3",
   "version": "3.9.12"
  }
 },
 "nbformat": 4,
 "nbformat_minor": 5
}
