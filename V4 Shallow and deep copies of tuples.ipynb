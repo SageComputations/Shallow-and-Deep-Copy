{
 "cells": [
  {
   "cell_type": "code",
   "execution_count": 1,
   "id": "94e3f49b",
   "metadata": {},
   "outputs": [
    {
     "data": {
      "text/plain": [
       "('banana', 'orange', 'grapes')"
      ]
     },
     "execution_count": 1,
     "metadata": {},
     "output_type": "execute_result"
    }
   ],
   "source": [
    "fruits = ('banana','orange','grapes')\n",
    "\n",
    "fruits"
   ]
  },
  {
   "cell_type": "code",
   "execution_count": 2,
   "id": "834c5e6d",
   "metadata": {},
   "outputs": [
    {
     "name": "stdout",
     "output_type": "stream",
     "text": [
      "Original: ('banana', 'orange', 'grapes')\n",
      "Modified: ('banana', 'orange', 'grapes')\n"
     ]
    }
   ],
   "source": [
    "new_fruits = fruits\n",
    "\n",
    "print('Original:',fruits)\n",
    "print('Modified:',new_fruits)"
   ]
  },
  {
   "cell_type": "code",
   "execution_count": 3,
   "id": "488b88d3",
   "metadata": {},
   "outputs": [
    {
     "data": {
      "text/plain": [
       "'grapes'"
      ]
     },
     "execution_count": 3,
     "metadata": {},
     "output_type": "execute_result"
    }
   ],
   "source": [
    "new_fruits[2]"
   ]
  },
  {
   "cell_type": "markdown",
   "id": "ef157da7",
   "metadata": {},
   "source": [
    "# Both variables refer to the same tuple in memory in case of '='"
   ]
  },
  {
   "cell_type": "code",
   "execution_count": 5,
   "id": "49996ab6",
   "metadata": {},
   "outputs": [
    {
     "ename": "TypeError",
     "evalue": "'tuple' object does not support item assignment",
     "output_type": "error",
     "traceback": [
      "\u001b[1;31m---------------------------------------------------------------------------\u001b[0m",
      "\u001b[1;31mTypeError\u001b[0m                                 Traceback (most recent call last)",
      "Input \u001b[1;32mIn [5]\u001b[0m, in \u001b[0;36m<cell line: 1>\u001b[1;34m()\u001b[0m\n\u001b[1;32m----> 1\u001b[0m new_fruits[\u001b[38;5;241m2\u001b[39m] \u001b[38;5;241m=\u001b[39m \u001b[38;5;124m'\u001b[39m\u001b[38;5;124morange\u001b[39m\u001b[38;5;124m'\u001b[39m\n",
      "\u001b[1;31mTypeError\u001b[0m: 'tuple' object does not support item assignment"
     ]
    }
   ],
   "source": [
    "new_fruits[2] = 'orange'"
   ]
  },
  {
   "cell_type": "code",
   "execution_count": 7,
   "id": "f0a91ab2",
   "metadata": {},
   "outputs": [
    {
     "data": {
      "text/plain": [
       "('apple', ['banana', 'orange'], 'kiwi')"
      ]
     },
     "execution_count": 7,
     "metadata": {},
     "output_type": "execute_result"
    }
   ],
   "source": [
    "fruits = ('apple',['banana','orange'],'kiwi')\n",
    "\n",
    "fruits"
   ]
  },
  {
   "cell_type": "code",
   "execution_count": 8,
   "id": "6eb5c26f",
   "metadata": {},
   "outputs": [
    {
     "name": "stdout",
     "output_type": "stream",
     "text": [
      "Original: ('apple', ['banana', 'orange'], 'kiwi')\n",
      "Modified: ('apple', ['banana', 'orange'], 'kiwi')\n"
     ]
    }
   ],
   "source": [
    "new_fruits = fruits\n",
    "\n",
    "print('Original:',fruits)\n",
    "print('Modified:',new_fruits)"
   ]
  },
  {
   "cell_type": "code",
   "execution_count": 9,
   "id": "35f5db71",
   "metadata": {},
   "outputs": [
    {
     "data": {
      "text/plain": [
       "'orange'"
      ]
     },
     "execution_count": 9,
     "metadata": {},
     "output_type": "execute_result"
    }
   ],
   "source": [
    "new_fruits[1][1]"
   ]
  },
  {
   "cell_type": "code",
   "execution_count": 10,
   "id": "657fa761",
   "metadata": {},
   "outputs": [
    {
     "name": "stdout",
     "output_type": "stream",
     "text": [
      "Original: ('apple', ['banana', 'guava'], 'kiwi')\n",
      "Modified: ('apple', ['banana', 'guava'], 'kiwi')\n"
     ]
    }
   ],
   "source": [
    "new_fruits[1][1] = 'guava'\n",
    "\n",
    "print('Original:',fruits)\n",
    "print('Modified:',new_fruits)"
   ]
  },
  {
   "cell_type": "code",
   "execution_count": 11,
   "id": "ed418169",
   "metadata": {},
   "outputs": [],
   "source": [
    "import copy"
   ]
  },
  {
   "cell_type": "code",
   "execution_count": 12,
   "id": "b15e2aa6",
   "metadata": {},
   "outputs": [
    {
     "data": {
      "text/plain": [
       "('Maruti', 'Honda', 'Hyundai', ['Tata', 'Mahindra'])"
      ]
     },
     "execution_count": 12,
     "metadata": {},
     "output_type": "execute_result"
    }
   ],
   "source": [
    "cars = ('Maruti','Honda','Hyundai',['Tata','Mahindra'])\n",
    "\n",
    "cars"
   ]
  },
  {
   "cell_type": "code",
   "execution_count": 13,
   "id": "eb1c400c",
   "metadata": {},
   "outputs": [
    {
     "name": "stdout",
     "output_type": "stream",
     "text": [
      "Original: ('Maruti', 'Honda', 'Hyundai', ['Tata', 'Mahindra'])\n",
      "Modified: ('Maruti', 'Honda', 'Hyundai', ['Tata', 'Mahindra'])\n"
     ]
    }
   ],
   "source": [
    "new_cars = copy.copy(cars)\n",
    "\n",
    "print('Original:',cars)\n",
    "print('Modified:',new_cars)"
   ]
  },
  {
   "cell_type": "code",
   "execution_count": 14,
   "id": "27e99481",
   "metadata": {},
   "outputs": [
    {
     "data": {
      "text/plain": [
       "'Tata'"
      ]
     },
     "execution_count": 14,
     "metadata": {},
     "output_type": "execute_result"
    }
   ],
   "source": [
    "new_cars[3][0]"
   ]
  },
  {
   "cell_type": "code",
   "execution_count": 15,
   "id": "e2c93c43",
   "metadata": {},
   "outputs": [],
   "source": [
    "new_cars[3][0] = 'Kia'"
   ]
  },
  {
   "cell_type": "code",
   "execution_count": 16,
   "id": "01e9eb5c",
   "metadata": {},
   "outputs": [
    {
     "name": "stdout",
     "output_type": "stream",
     "text": [
      "Original: ('Maruti', 'Honda', 'Hyundai', ['Kia', 'Mahindra'])\n",
      "Modified: ('Maruti', 'Honda', 'Hyundai', ['Kia', 'Mahindra'])\n"
     ]
    }
   ],
   "source": [
    "print('Original:',cars)\n",
    "print('Modified:',new_cars)"
   ]
  },
  {
   "cell_type": "code",
   "execution_count": 17,
   "id": "d2377b21",
   "metadata": {},
   "outputs": [
    {
     "name": "stdout",
     "output_type": "stream",
     "text": [
      "Original: ('Maruti', 'Honda', 'Hyundai', ['Kia', 'Mahindra'])\n",
      "Modified: ('Maruti', 'Honda', 'Hyundai', ['Kia', 'Mahindra'])\n"
     ]
    }
   ],
   "source": [
    "new_cars = copy.deepcopy(cars)\n",
    "\n",
    "print('Original:',cars)\n",
    "print('Modified:',new_cars)"
   ]
  },
  {
   "cell_type": "code",
   "execution_count": 19,
   "id": "26626e9c",
   "metadata": {},
   "outputs": [],
   "source": [
    "new_cars[3][0] = 'Renault'"
   ]
  },
  {
   "cell_type": "code",
   "execution_count": 20,
   "id": "d2863bd1",
   "metadata": {},
   "outputs": [
    {
     "name": "stdout",
     "output_type": "stream",
     "text": [
      "Original: ('Maruti', 'Honda', 'Hyundai', ['Kia', 'Mahindra'])\n",
      "Modified: ('Maruti', 'Honda', 'Hyundai', ['Renault', 'Mahindra'])\n"
     ]
    }
   ],
   "source": [
    "print('Original:',cars)\n",
    "print('Modified:',new_cars)"
   ]
  },
  {
   "cell_type": "code",
   "execution_count": null,
   "id": "b363cf0a",
   "metadata": {},
   "outputs": [],
   "source": []
  }
 ],
 "metadata": {
  "kernelspec": {
   "display_name": "Python 3 (ipykernel)",
   "language": "python",
   "name": "python3"
  },
  "language_info": {
   "codemirror_mode": {
    "name": "ipython",
    "version": 3
   },
   "file_extension": ".py",
   "mimetype": "text/x-python",
   "name": "python",
   "nbconvert_exporter": "python",
   "pygments_lexer": "ipython3",
   "version": "3.9.12"
  }
 },
 "nbformat": 4,
 "nbformat_minor": 5
}
