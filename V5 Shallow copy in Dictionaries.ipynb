{
 "cells": [
  {
   "cell_type": "code",
   "execution_count": 1,
   "id": "bc61a046",
   "metadata": {},
   "outputs": [
    {
     "data": {
      "text/plain": [
       "{'jan': 1, 'feb': 2, 'mar': 3, 'april': 4}"
      ]
     },
     "execution_count": 1,
     "metadata": {},
     "output_type": "execute_result"
    }
   ],
   "source": [
    "months = {'jan':1,'feb':2,'mar':3,'april':4}\n",
    "\n",
    "months"
   ]
  },
  {
   "cell_type": "code",
   "execution_count": 2,
   "id": "b4322a79",
   "metadata": {},
   "outputs": [
    {
     "name": "stdout",
     "output_type": "stream",
     "text": [
      "Original:  {'jan': 1, 'feb': 2, 'mar': 3, 'april': 4}\n",
      "Modified:  {'jan': 1, 'feb': 2, 'mar': 3, 'april': 4}\n"
     ]
    }
   ],
   "source": [
    "new_months = months\n",
    "\n",
    "print('Original: ',months)\n",
    "print('Modified: ',new_months)"
   ]
  },
  {
   "cell_type": "code",
   "execution_count": 3,
   "id": "5a33c538",
   "metadata": {},
   "outputs": [
    {
     "data": {
      "text/plain": [
       "2"
      ]
     },
     "execution_count": 3,
     "metadata": {},
     "output_type": "execute_result"
    }
   ],
   "source": [
    "new_months['feb']"
   ]
  },
  {
   "cell_type": "code",
   "execution_count": 4,
   "id": "5d038835",
   "metadata": {},
   "outputs": [
    {
     "name": "stdout",
     "output_type": "stream",
     "text": [
      "Original:  {'jan': 1, 'feb': 'FEB', 'mar': 3, 'april': 4}\n",
      "Modified:  {'jan': 1, 'feb': 'FEB', 'mar': 3, 'april': 4}\n"
     ]
    }
   ],
   "source": [
    "new_months['feb'] = 'FEB'\n",
    "\n",
    "print('Original: ',months)\n",
    "print('Modified: ',new_months)"
   ]
  },
  {
   "cell_type": "markdown",
   "id": "c2452851",
   "metadata": {},
   "source": [
    "# new_months = months, Both variables refer to the same dictionary in memory"
   ]
  },
  {
   "cell_type": "code",
   "execution_count": 5,
   "id": "83b48c89",
   "metadata": {},
   "outputs": [],
   "source": [
    "import copy"
   ]
  },
  {
   "cell_type": "code",
   "execution_count": 6,
   "id": "76a4b584",
   "metadata": {},
   "outputs": [
    {
     "data": {
      "text/plain": [
       "{'Raman': 2018, 'Shivam': 2020, 'Rahul': 2022, 'Akash': 2023}"
      ]
     },
     "execution_count": 6,
     "metadata": {},
     "output_type": "execute_result"
    }
   ],
   "source": [
    "employees = {'Raman':2018,'Shivam':2020,'Rahul':2022,'Akash':2023}\n",
    "\n",
    "employees"
   ]
  },
  {
   "cell_type": "code",
   "execution_count": 7,
   "id": "9847a3ab",
   "metadata": {},
   "outputs": [
    {
     "name": "stdout",
     "output_type": "stream",
     "text": [
      "{'Raman': 2018, 'Shivam': 2020, 'Rahul': 2022, 'Akash': 2023}\n",
      "{'Raman': 2018, 'Shivam': 2020, 'Rahul': 2022, 'Akash': 2023}\n"
     ]
    }
   ],
   "source": [
    "employees_copy = copy.copy(employees)\n",
    "\n",
    "print(employees)\n",
    "print(employees_copy)"
   ]
  },
  {
   "cell_type": "code",
   "execution_count": 9,
   "id": "fb2b198a",
   "metadata": {},
   "outputs": [
    {
     "data": {
      "text/plain": [
       "2022"
      ]
     },
     "execution_count": 9,
     "metadata": {},
     "output_type": "execute_result"
    }
   ],
   "source": [
    "employees['Rahul']"
   ]
  },
  {
   "cell_type": "code",
   "execution_count": 10,
   "id": "4f19d9ba",
   "metadata": {},
   "outputs": [
    {
     "name": "stdout",
     "output_type": "stream",
     "text": [
      "{'Raman': 2018, 'Shivam': 2020, 'Rahul': 2022, 'Akash': 2023}\n",
      "{'Raman': 2018, 'Shivam': 2020, 'Rahul': 2021, 'Akash': 2023}\n"
     ]
    }
   ],
   "source": [
    "employees_copy['Rahul'] = 2021\n",
    "\n",
    "print(employees)\n",
    "print(employees_copy)"
   ]
  },
  {
   "cell_type": "markdown",
   "id": "03cc756d",
   "metadata": {},
   "source": [
    "# Dict with nested list"
   ]
  },
  {
   "cell_type": "code",
   "execution_count": 11,
   "id": "7bb5c3fc",
   "metadata": {},
   "outputs": [
    {
     "data": {
      "text/plain": [
       "{'one': 1, 'two': 2, 'three': 3, 'four': [1, 2, 3, 4.5]}"
      ]
     },
     "execution_count": 11,
     "metadata": {},
     "output_type": "execute_result"
    }
   ],
   "source": [
    "orig_dict = {'one':1,'two':2,'three':3,'four':[1,2,3,4.5]}\n",
    "\n",
    "orig_dict"
   ]
  },
  {
   "cell_type": "code",
   "execution_count": 13,
   "id": "64f88047",
   "metadata": {},
   "outputs": [
    {
     "name": "stdout",
     "output_type": "stream",
     "text": [
      "Original : {'one': 1, 'two': 2, 'three': 3, 'four': [1, 2, 3, 4.5]}\n",
      "Modified : {'one': 1, 'two': 2, 'three': 3, 'four': [1, 2, 3, 4.5]}\n"
     ]
    }
   ],
   "source": [
    "new_dict = copy.copy(orig_dict)\n",
    "\n",
    "print('Original :',orig_dict)\n",
    "print('Modified :',new_dict)"
   ]
  },
  {
   "cell_type": "code",
   "execution_count": 14,
   "id": "9eb59835",
   "metadata": {},
   "outputs": [
    {
     "data": {
      "text/plain": [
       "4.5"
      ]
     },
     "execution_count": 14,
     "metadata": {},
     "output_type": "execute_result"
    }
   ],
   "source": [
    "new_dict['four'][3]"
   ]
  },
  {
   "cell_type": "code",
   "execution_count": 15,
   "id": "79a5f5cd",
   "metadata": {},
   "outputs": [
    {
     "name": "stdout",
     "output_type": "stream",
     "text": [
      "Original : {'one': 1, 'two': 2, 'three': 3, 'four': [1, 2, 3, 'Four and a Half']}\n",
      "Modified : {'one': 1, 'two': 2, 'three': 3, 'four': [1, 2, 3, 'Four and a Half']}\n"
     ]
    }
   ],
   "source": [
    "new_dict['four'][3] = 'Four and a Half'\n",
    "\n",
    "print('Original :',orig_dict)\n",
    "print('Modified :',new_dict)"
   ]
  },
  {
   "cell_type": "markdown",
   "id": "9d782100",
   "metadata": {},
   "source": [
    "# copy.copy(dict) produces a deep copy of the outer dictionary but a shallow copy of the nested types"
   ]
  },
  {
   "cell_type": "code",
   "execution_count": 16,
   "id": "44a06373",
   "metadata": {},
   "outputs": [
    {
     "name": "stdout",
     "output_type": "stream",
     "text": [
      "Original : {'one': 1, 'two': 2, 'three': 3, 'four': [1, 2, 3, 'Four and a Half', 5]}\n",
      "Modified : {'one': 1, 'two': 2, 'three': 3, 'four': [1, 2, 3, 'Four and a Half', 5]}\n"
     ]
    }
   ],
   "source": [
    "new_dict['four'].append(5)\n",
    "\n",
    "print('Original :',orig_dict)\n",
    "print('Modified :',new_dict)"
   ]
  },
  {
   "cell_type": "markdown",
   "id": "19364946",
   "metadata": {},
   "source": [
    "# Dict with nested dict"
   ]
  },
  {
   "cell_type": "code",
   "execution_count": 17,
   "id": "d57c4f58",
   "metadata": {},
   "outputs": [
    {
     "data": {
      "text/plain": [
       "{'one': 1, 'two': 2, 'three': {'zero': 0, 'one': 1}, 'four': 4}"
      ]
     },
     "execution_count": 17,
     "metadata": {},
     "output_type": "execute_result"
    }
   ],
   "source": [
    "orig_dict = {'one':1,'two':2,'three':{'zero':0,'one':1},'four':4}\n",
    "\n",
    "orig_dict"
   ]
  },
  {
   "cell_type": "code",
   "execution_count": 18,
   "id": "9bd308b3",
   "metadata": {},
   "outputs": [
    {
     "name": "stdout",
     "output_type": "stream",
     "text": [
      "Original : {'one': 1, 'two': 2, 'three': {'zero': 0, 'one': 1}, 'four': 4}\n",
      "Modified : {'one': 1, 'two': 2, 'three': {'zero': 0, 'one': 1}, 'four': 4}\n"
     ]
    }
   ],
   "source": [
    "new_dict = copy.copy(orig_dict)\n",
    "\n",
    "print('Original :',orig_dict)\n",
    "print('Modified :',new_dict)"
   ]
  },
  {
   "cell_type": "code",
   "execution_count": 19,
   "id": "e08d73dc",
   "metadata": {},
   "outputs": [
    {
     "name": "stdout",
     "output_type": "stream",
     "text": [
      "Original : {'one': 1, 'two': 2, 'three': {'zero': 'ZERO', 'one': 1}, 'four': 4}\n",
      "Modified : {'one': 1, 'two': 2, 'three': {'zero': 'ZERO', 'one': 1}, 'four': 4}\n"
     ]
    }
   ],
   "source": [
    "new_dict['three']['zero'] = 'ZERO'\n",
    "\n",
    "print('Original :',orig_dict)\n",
    "print('Modified :',new_dict)"
   ]
  },
  {
   "cell_type": "markdown",
   "id": "6a1b9715",
   "metadata": {},
   "source": [
    "# Dict with nested set"
   ]
  },
  {
   "cell_type": "code",
   "execution_count": 20,
   "id": "271fbe61",
   "metadata": {},
   "outputs": [
    {
     "data": {
      "text/plain": [
       "{'one': 1, 'two': 2, 'three': {0, 1, 2}, 'four': 4}"
      ]
     },
     "execution_count": 20,
     "metadata": {},
     "output_type": "execute_result"
    }
   ],
   "source": [
    "orig_dict = {'one':1,'two':2,'three':{0,1,2},'four':4}\n",
    "\n",
    "orig_dict"
   ]
  },
  {
   "cell_type": "code",
   "execution_count": 21,
   "id": "ca7fc8f8",
   "metadata": {},
   "outputs": [
    {
     "name": "stdout",
     "output_type": "stream",
     "text": [
      "Original : {'one': 1, 'two': 2, 'three': {0, 1, 2}, 'four': 4}\n",
      "Modified : {'one': 1, 'two': 2, 'three': {0, 1, 2}, 'four': 4}\n"
     ]
    }
   ],
   "source": [
    "new_dict = copy.copy(orig_dict)\n",
    "\n",
    "print('Original :',orig_dict)\n",
    "print('Modified :',new_dict)"
   ]
  },
  {
   "cell_type": "code",
   "execution_count": 22,
   "id": "e870b41a",
   "metadata": {},
   "outputs": [
    {
     "data": {
      "text/plain": [
       "{0, 1, 2}"
      ]
     },
     "execution_count": 22,
     "metadata": {},
     "output_type": "execute_result"
    }
   ],
   "source": [
    "new_dict['three']"
   ]
  },
  {
   "cell_type": "code",
   "execution_count": 24,
   "id": "ef40a262",
   "metadata": {},
   "outputs": [
    {
     "name": "stdout",
     "output_type": "stream",
     "text": [
      "Original : {'one': 1, 'two': 2, 'three': {0, 1, 2, 3}, 'four': 4}\n",
      "Modified : {'one': 1, 'two': 2, 'three': {0, 1, 2, 3}, 'four': 4}\n"
     ]
    }
   ],
   "source": [
    "new_dict['three'].add(3)\n",
    "\n",
    "print('Original :',orig_dict)\n",
    "print('Modified :',new_dict)"
   ]
  },
  {
   "cell_type": "code",
   "execution_count": null,
   "id": "0ea67b7b",
   "metadata": {},
   "outputs": [],
   "source": []
  }
 ],
 "metadata": {
  "kernelspec": {
   "display_name": "Python 3 (ipykernel)",
   "language": "python",
   "name": "python3"
  },
  "language_info": {
   "codemirror_mode": {
    "name": "ipython",
    "version": 3
   },
   "file_extension": ".py",
   "mimetype": "text/x-python",
   "name": "python",
   "nbconvert_exporter": "python",
   "pygments_lexer": "ipython3",
   "version": "3.9.12"
  }
 },
 "nbformat": 4,
 "nbformat_minor": 5
}
