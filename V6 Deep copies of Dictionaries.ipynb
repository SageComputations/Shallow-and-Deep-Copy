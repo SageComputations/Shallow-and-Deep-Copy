{
 "cells": [
  {
   "cell_type": "code",
   "execution_count": 1,
   "id": "e615947c",
   "metadata": {},
   "outputs": [
    {
     "data": {
      "text/plain": [
       "{'jan': 1, 'feb': 2, 'mar': 3, 'april': 4}"
      ]
     },
     "execution_count": 1,
     "metadata": {},
     "output_type": "execute_result"
    }
   ],
   "source": [
    "months = {'jan':1,'feb':2,'mar':3,'april':4}\n",
    "\n",
    "months"
   ]
  },
  {
   "cell_type": "code",
   "execution_count": 2,
   "id": "d729e561",
   "metadata": {},
   "outputs": [
    {
     "name": "stdout",
     "output_type": "stream",
     "text": [
      "Original:  {'jan': 1, 'feb': 2, 'mar': 3, 'april': 4}\n",
      "Modified:  {'jan': 1, 'feb': 2, 'mar': 3, 'april': 4}\n"
     ]
    }
   ],
   "source": [
    "new_months = months.copy() #for a simple dictionary this creates a deep copy\n",
    "\n",
    "print('Original: ',months)\n",
    "print('Modified: ',new_months)"
   ]
  },
  {
   "cell_type": "code",
   "execution_count": 3,
   "id": "a101bd12",
   "metadata": {},
   "outputs": [
    {
     "data": {
      "text/plain": [
       "2"
      ]
     },
     "execution_count": 3,
     "metadata": {},
     "output_type": "execute_result"
    }
   ],
   "source": [
    "new_months['feb']"
   ]
  },
  {
   "cell_type": "code",
   "execution_count": 4,
   "id": "ea25f3a4",
   "metadata": {},
   "outputs": [
    {
     "name": "stdout",
     "output_type": "stream",
     "text": [
      "Original:  {'jan': 1, 'feb': 2, 'mar': 3, 'april': 4}\n",
      "Modified:  {'jan': 1, 'feb': 'FEB', 'mar': 3, 'april': 4}\n"
     ]
    }
   ],
   "source": [
    "new_months['feb'] = 'FEB'\n",
    "\n",
    "print('Original: ',months)\n",
    "print('Modified: ',new_months)"
   ]
  },
  {
   "cell_type": "code",
   "execution_count": 5,
   "id": "8d0f807c",
   "metadata": {},
   "outputs": [],
   "source": [
    "import copy"
   ]
  },
  {
   "cell_type": "code",
   "execution_count": 6,
   "id": "74648116",
   "metadata": {},
   "outputs": [
    {
     "data": {
      "text/plain": [
       "{'Raman': 2018, 'Shivam': 2020, 'Rahul': 2022, 'Akash': 2023}"
      ]
     },
     "execution_count": 6,
     "metadata": {},
     "output_type": "execute_result"
    }
   ],
   "source": [
    "employees = {'Raman':2018,'Shivam':2020,'Rahul':2022,'Akash':2023}\n",
    "\n",
    "employees"
   ]
  },
  {
   "cell_type": "code",
   "execution_count": 7,
   "id": "1ba39dda",
   "metadata": {},
   "outputs": [
    {
     "name": "stdout",
     "output_type": "stream",
     "text": [
      "{'Raman': 2018, 'Shivam': 2020, 'Rahul': 2022, 'Akash': 2023}\n",
      "{'Raman': 2018, 'Shivam': 2020, 'Rahul': 2022, 'Akash': 2023}\n"
     ]
    }
   ],
   "source": [
    "employees_copy = copy.deepcopy(employees)\n",
    "\n",
    "print(employees)\n",
    "print(employees_copy)"
   ]
  },
  {
   "cell_type": "code",
   "execution_count": 9,
   "id": "d77d2aa1",
   "metadata": {},
   "outputs": [
    {
     "name": "stdout",
     "output_type": "stream",
     "text": [
      "{'Raman': 2018, 'Shivam': 2020, 'Rahul': 2022, 'Akash': 2010}\n",
      "{'Raman': 2018, 'Shivam': 2020, 'Rahul': 2022, 'Akash': 2023}\n"
     ]
    }
   ],
   "source": [
    "employees['Akash'] = 2010\n",
    "\n",
    "print(employees)\n",
    "print(employees_copy)"
   ]
  },
  {
   "cell_type": "code",
   "execution_count": 16,
   "id": "d2af3f80",
   "metadata": {},
   "outputs": [
    {
     "data": {
      "text/plain": [
       "{'one': 1, 'two': 2, 'three': 3, 'four': [1, 2, 3, 4.5]}"
      ]
     },
     "execution_count": 16,
     "metadata": {},
     "output_type": "execute_result"
    }
   ],
   "source": [
    "orig_dict = {'one':1,'two':2,'three':3,'four':[1,2,3,4.5]}\n",
    "\n",
    "orig_dict"
   ]
  },
  {
   "cell_type": "code",
   "execution_count": 17,
   "id": "7b1a2339",
   "metadata": {},
   "outputs": [
    {
     "name": "stdout",
     "output_type": "stream",
     "text": [
      "Original : {'one': 1, 'two': 2, 'three': 3, 'four': [1, 2, 3, 4.5]}\n",
      "Modified : {'one': 1, 'two': 2, 'three': 3, 'four': [1, 2, 3, 4.5]}\n"
     ]
    }
   ],
   "source": [
    "new_dict = copy.deepcopy(orig_dict)\n",
    "\n",
    "print('Original :',orig_dict)\n",
    "print('Modified :',new_dict)"
   ]
  },
  {
   "cell_type": "code",
   "execution_count": 18,
   "id": "13f98859",
   "metadata": {},
   "outputs": [
    {
     "data": {
      "text/plain": [
       "3"
      ]
     },
     "execution_count": 18,
     "metadata": {},
     "output_type": "execute_result"
    }
   ],
   "source": [
    "new_dict['four'][2]"
   ]
  },
  {
   "cell_type": "code",
   "execution_count": 19,
   "id": "8d5b4dd6",
   "metadata": {},
   "outputs": [
    {
     "name": "stdout",
     "output_type": "stream",
     "text": [
      "Original : {'one': 1, 'two': 2, 'three': 3, 'four': [1, 2, 3, 4.5]}\n",
      "Modified : {'one': 1, 'two': 2, 'three': 3, 'four': [1, 2, 'THREE', 4.5]}\n"
     ]
    }
   ],
   "source": [
    "new_dict['four'][2] = 'THREE'\n",
    "\n",
    "print('Original :',orig_dict)\n",
    "print('Modified :',new_dict)"
   ]
  },
  {
   "cell_type": "code",
   "execution_count": 20,
   "id": "4ba638d8",
   "metadata": {},
   "outputs": [
    {
     "name": "stdout",
     "output_type": "stream",
     "text": [
      "Original : {'one': 1, 'two': 2, 'three': 3, 'four': [1, 2, 3, 4.5]}\n",
      "Modified : {'one': 1, 'two': 2, 'three': 3, 'four': [1, 2, 'THREE', 4.5, 5]}\n"
     ]
    }
   ],
   "source": [
    "new_dict['four'].append(5)\n",
    "\n",
    "print('Original :',orig_dict)\n",
    "print('Modified :',new_dict)"
   ]
  },
  {
   "cell_type": "code",
   "execution_count": 21,
   "id": "6760b335",
   "metadata": {},
   "outputs": [
    {
     "data": {
      "text/plain": [
       "{'one': 1, 'two': 2, 'three': {'zero': 0, 'one': 1}, 'four': 4}"
      ]
     },
     "execution_count": 21,
     "metadata": {},
     "output_type": "execute_result"
    }
   ],
   "source": [
    "orig_dict = {'one':1,'two':2,'three':{'zero':0,'one':1},'four':4}\n",
    "\n",
    "orig_dict"
   ]
  },
  {
   "cell_type": "code",
   "execution_count": 23,
   "id": "eda7b7cb",
   "metadata": {},
   "outputs": [
    {
     "name": "stdout",
     "output_type": "stream",
     "text": [
      "Original : {'one': 1, 'two': 2, 'three': {'zero': 0, 'one': 1}, 'four': 4}\n",
      "Modified : {'one': 1, 'two': 2, 'three': {'zero': 0, 'one': 1}, 'four': 4}\n"
     ]
    }
   ],
   "source": [
    "new_dict = copy.deepcopy(orig_dict)\n",
    "\n",
    "print('Original :',orig_dict)\n",
    "print('Modified :',new_dict)"
   ]
  },
  {
   "cell_type": "code",
   "execution_count": 24,
   "id": "9f54ff6a",
   "metadata": {},
   "outputs": [
    {
     "data": {
      "text/plain": [
       "0"
      ]
     },
     "execution_count": 24,
     "metadata": {},
     "output_type": "execute_result"
    }
   ],
   "source": [
    "new_dict['three']['zero']"
   ]
  },
  {
   "cell_type": "code",
   "execution_count": 26,
   "id": "0107d711",
   "metadata": {},
   "outputs": [
    {
     "name": "stdout",
     "output_type": "stream",
     "text": [
      "Original : {'one': 1, 'two': 2, 'three': {'zero': 0, 'one': 1}, 'four': 4}\n",
      "Modified : {'one': 1, 'two': 2, 'three': {'zero': 'ZERO', 'one': 1}, 'four': 4}\n"
     ]
    }
   ],
   "source": [
    "new_dict['three']['zero'] = 'ZERO'\n",
    "\n",
    "print('Original :',orig_dict)\n",
    "print('Modified :',new_dict)"
   ]
  },
  {
   "cell_type": "code",
   "execution_count": 27,
   "id": "ed0fd302",
   "metadata": {},
   "outputs": [
    {
     "data": {
      "text/plain": [
       "{'one': 1, 'two': 2, 'three': {0, 1, 2}, 'four': 4}"
      ]
     },
     "execution_count": 27,
     "metadata": {},
     "output_type": "execute_result"
    }
   ],
   "source": [
    "orig_dict = {'one':1,'two':2,'three':{0,1,2},'four':4}\n",
    "\n",
    "orig_dict"
   ]
  },
  {
   "cell_type": "code",
   "execution_count": 28,
   "id": "643471f9",
   "metadata": {},
   "outputs": [
    {
     "name": "stdout",
     "output_type": "stream",
     "text": [
      "Original : {'one': 1, 'two': 2, 'three': {0, 1, 2}, 'four': 4}\n",
      "Modified : {'one': 1, 'two': 2, 'three': {0, 1, 2}, 'four': 4}\n"
     ]
    }
   ],
   "source": [
    "new_dict = copy.deepcopy(orig_dict)\n",
    "\n",
    "print('Original :',orig_dict)\n",
    "print('Modified :',new_dict)"
   ]
  },
  {
   "cell_type": "code",
   "execution_count": 29,
   "id": "6df33674",
   "metadata": {},
   "outputs": [
    {
     "data": {
      "text/plain": [
       "{0, 1, 2}"
      ]
     },
     "execution_count": 29,
     "metadata": {},
     "output_type": "execute_result"
    }
   ],
   "source": [
    "new_dict['three']"
   ]
  },
  {
   "cell_type": "code",
   "execution_count": 30,
   "id": "ea887eea",
   "metadata": {},
   "outputs": [
    {
     "name": "stdout",
     "output_type": "stream",
     "text": [
      "Original : {'one': 1, 'two': 2, 'three': {0, 1, 2}, 'four': 4}\n",
      "Modified : {'one': 1, 'two': 2, 'three': {0, 1, 2, 'THREE'}, 'four': 4}\n"
     ]
    }
   ],
   "source": [
    "new_dict['three'].add('THREE')\n",
    "\n",
    "print('Original :',orig_dict)\n",
    "print('Modified :',new_dict)"
   ]
  },
  {
   "cell_type": "code",
   "execution_count": null,
   "id": "a4de3254",
   "metadata": {},
   "outputs": [],
   "source": []
  }
 ],
 "metadata": {
  "kernelspec": {
   "display_name": "Python 3 (ipykernel)",
   "language": "python",
   "name": "python3"
  },
  "language_info": {
   "codemirror_mode": {
    "name": "ipython",
    "version": 3
   },
   "file_extension": ".py",
   "mimetype": "text/x-python",
   "name": "python",
   "nbconvert_exporter": "python",
   "pygments_lexer": "ipython3",
   "version": "3.9.12"
  }
 },
 "nbformat": 4,
 "nbformat_minor": 5
}
