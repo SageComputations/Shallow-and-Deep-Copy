{
 "cells": [
  {
   "cell_type": "code",
   "execution_count": 1,
   "id": "735fb3b7",
   "metadata": {},
   "outputs": [
    {
     "data": {
      "text/plain": [
       "{'C', 'C++', 'Java', 'Python'}"
      ]
     },
     "execution_count": 1,
     "metadata": {},
     "output_type": "execute_result"
    }
   ],
   "source": [
    "set_1 = {'Java','C','C++','Python'}\n",
    "\n",
    "set_1"
   ]
  },
  {
   "cell_type": "code",
   "execution_count": 2,
   "id": "1831d855",
   "metadata": {},
   "outputs": [
    {
     "name": "stdout",
     "output_type": "stream",
     "text": [
      "Original:  {'C++', 'Java', 'C', 'Python'}\n",
      "Modified:  {'C++', 'Java', 'C', 'Python'}\n"
     ]
    }
   ],
   "source": [
    "set_2 = set_1\n",
    "\n",
    "print(\"Original: \",set_1)\n",
    "print(\"Modified: \",set_2)"
   ]
  },
  {
   "cell_type": "code",
   "execution_count": 3,
   "id": "a17de87a",
   "metadata": {},
   "outputs": [
    {
     "name": "stdout",
     "output_type": "stream",
     "text": [
      "Original:  {'SQL', 'C', 'Java', 'C++', 'Python'}\n",
      "Modified:  {'SQL', 'C', 'Java', 'C++', 'Python'}\n"
     ]
    }
   ],
   "source": [
    "set_2.add('SQL')\n",
    "\n",
    "print(\"Original: \",set_1)\n",
    "print(\"Modified: \",set_2)"
   ]
  },
  {
   "cell_type": "markdown",
   "id": "32a538f7",
   "metadata": {},
   "source": [
    "# set_2 = set_1 both variables refer to the same set in memory"
   ]
  },
  {
   "cell_type": "code",
   "execution_count": 4,
   "id": "cf095097",
   "metadata": {},
   "outputs": [
    {
     "data": {
      "text/plain": [
       "'SQL'"
      ]
     },
     "execution_count": 4,
     "metadata": {},
     "output_type": "execute_result"
    }
   ],
   "source": [
    "set_2.pop() #will delte any random element"
   ]
  },
  {
   "cell_type": "code",
   "execution_count": 5,
   "id": "a0cf0a85",
   "metadata": {},
   "outputs": [
    {
     "name": "stdout",
     "output_type": "stream",
     "text": [
      "Original:  {'C', 'Java', 'C++', 'Python'}\n",
      "Modified:  {'C', 'Java', 'C++', 'Python'}\n"
     ]
    }
   ],
   "source": [
    "print(\"Original: \",set_1)\n",
    "print(\"Modified: \",set_2)"
   ]
  },
  {
   "cell_type": "code",
   "execution_count": 6,
   "id": "3d35e170",
   "metadata": {},
   "outputs": [
    {
     "ename": "TypeError",
     "evalue": "'set' object is not subscriptable",
     "output_type": "error",
     "traceback": [
      "\u001b[1;31m---------------------------------------------------------------------------\u001b[0m",
      "\u001b[1;31mTypeError\u001b[0m                                 Traceback (most recent call last)",
      "Input \u001b[1;32mIn [6]\u001b[0m, in \u001b[0;36m<cell line: 1>\u001b[1;34m()\u001b[0m\n\u001b[1;32m----> 1\u001b[0m \u001b[43mset_2\u001b[49m\u001b[43m[\u001b[49m\u001b[38;5;241;43m2\u001b[39;49m\u001b[43m]\u001b[49m\n",
      "\u001b[1;31mTypeError\u001b[0m: 'set' object is not subscriptable"
     ]
    }
   ],
   "source": [
    "set_2[2]"
   ]
  },
  {
   "cell_type": "code",
   "execution_count": 7,
   "id": "f1dadf03",
   "metadata": {},
   "outputs": [
    {
     "ename": "TypeError",
     "evalue": "'set' object does not support item assignment",
     "output_type": "error",
     "traceback": [
      "\u001b[1;31m---------------------------------------------------------------------------\u001b[0m",
      "\u001b[1;31mTypeError\u001b[0m                                 Traceback (most recent call last)",
      "Input \u001b[1;32mIn [7]\u001b[0m, in \u001b[0;36m<cell line: 1>\u001b[1;34m()\u001b[0m\n\u001b[1;32m----> 1\u001b[0m set_2[\u001b[38;5;241m2\u001b[39m] \u001b[38;5;241m=\u001b[39m \u001b[38;5;124m'\u001b[39m\u001b[38;5;124mR Programming\u001b[39m\u001b[38;5;124m'\u001b[39m\n",
      "\u001b[1;31mTypeError\u001b[0m: 'set' object does not support item assignment"
     ]
    }
   ],
   "source": [
    "set_2[2] = 'R Programming'"
   ]
  },
  {
   "cell_type": "code",
   "execution_count": 8,
   "id": "2724bd15",
   "metadata": {},
   "outputs": [
    {
     "ename": "TypeError",
     "evalue": "unhashable type: 'list'",
     "output_type": "error",
     "traceback": [
      "\u001b[1;31m---------------------------------------------------------------------------\u001b[0m",
      "\u001b[1;31mTypeError\u001b[0m                                 Traceback (most recent call last)",
      "Input \u001b[1;32mIn [8]\u001b[0m, in \u001b[0;36m<cell line: 1>\u001b[1;34m()\u001b[0m\n\u001b[1;32m----> 1\u001b[0m set_1 \u001b[38;5;241m=\u001b[39m {\u001b[38;5;124m'\u001b[39m\u001b[38;5;124mJava\u001b[39m\u001b[38;5;124m'\u001b[39m,[\u001b[38;5;124m'\u001b[39m\u001b[38;5;124mC\u001b[39m\u001b[38;5;124m'\u001b[39m,\u001b[38;5;124m'\u001b[39m\u001b[38;5;124mC++\u001b[39m\u001b[38;5;124m'\u001b[39m],\u001b[38;5;124m'\u001b[39m\u001b[38;5;124mPython\u001b[39m\u001b[38;5;124m'\u001b[39m,\u001b[38;5;124m'\u001b[39m\u001b[38;5;124mJavascript\u001b[39m\u001b[38;5;124m'\u001b[39m}\n\u001b[0;32m      3\u001b[0m set_1\n",
      "\u001b[1;31mTypeError\u001b[0m: unhashable type: 'list'"
     ]
    }
   ],
   "source": [
    "set_1 = {'Java',['C','C++'],'Python','Javascript'}\n",
    "\n",
    "set_1"
   ]
  },
  {
   "cell_type": "code",
   "execution_count": 9,
   "id": "589cd508",
   "metadata": {},
   "outputs": [
    {
     "data": {
      "text/plain": [
       "{('C', 'C++'), 'Java', 'Javascript', 'Python'}"
      ]
     },
     "execution_count": 9,
     "metadata": {},
     "output_type": "execute_result"
    }
   ],
   "source": [
    "set_1 = {'Java',('C','C++'),'Python','Javascript'}\n",
    "\n",
    "set_1"
   ]
  },
  {
   "cell_type": "code",
   "execution_count": 10,
   "id": "9023833e",
   "metadata": {},
   "outputs": [
    {
     "name": "stdout",
     "output_type": "stream",
     "text": [
      "Original:  {'Java', ('C', 'C++'), 'Javascript', 'Python'}\n",
      "Modified:  {'Java', ('C', 'C++'), 'Javascript', 'Python'}\n"
     ]
    }
   ],
   "source": [
    "set_2 = set_1\n",
    "\n",
    "print(\"Original: \",set_1)\n",
    "print(\"Modified: \",set_2)"
   ]
  },
  {
   "cell_type": "code",
   "execution_count": 11,
   "id": "e93966be",
   "metadata": {},
   "outputs": [],
   "source": [
    "import copy"
   ]
  },
  {
   "cell_type": "code",
   "execution_count": 15,
   "id": "b435fdaa",
   "metadata": {},
   "outputs": [
    {
     "data": {
      "text/plain": [
       "{'Blue', 'Green', 'Purple', 'Red'}"
      ]
     },
     "execution_count": 15,
     "metadata": {},
     "output_type": "execute_result"
    }
   ],
   "source": [
    "colors_set = {\"Red\",\"Purple\",\"Blue\",\"Green\"}\n",
    "\n",
    "colors_set"
   ]
  },
  {
   "cell_type": "code",
   "execution_count": 16,
   "id": "7b0949bb",
   "metadata": {},
   "outputs": [
    {
     "name": "stdout",
     "output_type": "stream",
     "text": [
      "{'Green', 'Blue', 'Purple', 'Red'}\n",
      "{'Green', 'Blue', 'Purple', 'Red'}\n"
     ]
    }
   ],
   "source": [
    "new_colors_set = copy.copy(colors_set)\n",
    "\n",
    "print(colors_set)\n",
    "print(new_colors_set)"
   ]
  },
  {
   "cell_type": "code",
   "execution_count": 17,
   "id": "00060961",
   "metadata": {},
   "outputs": [],
   "source": [
    "colors_set.add(\"Black\")"
   ]
  },
  {
   "cell_type": "code",
   "execution_count": 18,
   "id": "c3e4c27f",
   "metadata": {},
   "outputs": [
    {
     "name": "stdout",
     "output_type": "stream",
     "text": [
      "{'Blue', 'Purple', 'Green', 'Black', 'Red'}\n",
      "{'Green', 'Blue', 'Purple', 'Red'}\n"
     ]
    }
   ],
   "source": [
    "print(colors_set)\n",
    "print(new_colors_set)"
   ]
  },
  {
   "cell_type": "code",
   "execution_count": 19,
   "id": "c0931120",
   "metadata": {},
   "outputs": [],
   "source": [
    "new_colors_set.remove('Red')"
   ]
  },
  {
   "cell_type": "code",
   "execution_count": 20,
   "id": "b15d3f95",
   "metadata": {},
   "outputs": [
    {
     "name": "stdout",
     "output_type": "stream",
     "text": [
      "{'Blue', 'Purple', 'Green', 'Black', 'Red'}\n",
      "{'Green', 'Blue', 'Purple'}\n"
     ]
    }
   ],
   "source": [
    "print(colors_set)\n",
    "print(new_colors_set)"
   ]
  },
  {
   "cell_type": "code",
   "execution_count": 21,
   "id": "96398c9c",
   "metadata": {},
   "outputs": [
    {
     "data": {
      "text/plain": [
       "{'Blue', 'Green', 'Purple', 'Red'}"
      ]
     },
     "execution_count": 21,
     "metadata": {},
     "output_type": "execute_result"
    }
   ],
   "source": [
    "colors_set = {\"Red\",\"Purple\",\"Blue\",\"Green\"}\n",
    "\n",
    "colors_set"
   ]
  },
  {
   "cell_type": "code",
   "execution_count": 22,
   "id": "6bad6c05",
   "metadata": {},
   "outputs": [
    {
     "name": "stdout",
     "output_type": "stream",
     "text": [
      "{'Green', 'Blue', 'Purple', 'Red'}\n",
      "{'Green', 'Red', 'Blue', 'Purple'}\n"
     ]
    }
   ],
   "source": [
    "new_colors_set = copy.deepcopy(colors_set)\n",
    "\n",
    "print(colors_set)\n",
    "print(new_colors_set)"
   ]
  },
  {
   "cell_type": "code",
   "execution_count": 23,
   "id": "666a27fc",
   "metadata": {},
   "outputs": [],
   "source": [
    "colors_set.add('White')"
   ]
  },
  {
   "cell_type": "code",
   "execution_count": 24,
   "id": "d377d336",
   "metadata": {},
   "outputs": [
    {
     "name": "stdout",
     "output_type": "stream",
     "text": [
      "{'White', 'Blue', 'Purple', 'Green', 'Red'}\n",
      "{'Green', 'Red', 'Blue', 'Purple'}\n"
     ]
    }
   ],
   "source": [
    "print(colors_set)\n",
    "print(new_colors_set)"
   ]
  },
  {
   "cell_type": "markdown",
   "id": "cbf177c7",
   "metadata": {},
   "source": [
    "# In sets indexing is not allowed as well as mutable data types are not allowed so logically bot copy and deep copy produces deep copies of sets whether normal or nested sets"
   ]
  },
  {
   "cell_type": "code",
   "execution_count": null,
   "id": "9b434b00",
   "metadata": {},
   "outputs": [],
   "source": []
  }
 ],
 "metadata": {
  "kernelspec": {
   "display_name": "Python 3 (ipykernel)",
   "language": "python",
   "name": "python3"
  },
  "language_info": {
   "codemirror_mode": {
    "name": "ipython",
    "version": 3
   },
   "file_extension": ".py",
   "mimetype": "text/x-python",
   "name": "python",
   "nbconvert_exporter": "python",
   "pygments_lexer": "ipython3",
   "version": "3.9.12"
  }
 },
 "nbformat": 4,
 "nbformat_minor": 5
}
